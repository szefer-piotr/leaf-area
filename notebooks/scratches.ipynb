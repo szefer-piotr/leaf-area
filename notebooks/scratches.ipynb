{
 "cells": [
  {
   "cell_type": "code",
   "execution_count": 1,
   "metadata": {},
   "outputs": [],
   "source": [
    "initializer_configs = {\n",
    "    'loss_fn': 'torch.nn.MSELoss',\n",
    "    'optimizer': {\n",
    "        'optimizer': 'torch.optim.Adam',\n",
    "        'amsgrad': 'True'},\n",
    "    'scheduler': {'scheduler': 'torch.optim.lr_scheduler.StepLR',\n",
    "                  'step_size': 7,\n",
    "                  'gamma': 0.1},\n",
    "    'metric': 'torcheval.metrics.R2Score'  \n",
    "}"
   ]
  },
  {
   "cell_type": "code",
   "execution_count": 4,
   "metadata": {},
   "outputs": [],
   "source": [
    "initializer_configs = {\n",
    "    'loss_fn': 'torch.nn.MSELoss',\n",
    "    'loss_fn_params': None,\n",
    "    'optimizer': 'torch.optim.Adam',\n",
    "    'optimizer_params': {\n",
    "        'amsgrad': 'True'\n",
    "        },\n",
    "    'scheduler': 'torch.optim.lr_scheduler.StepLR',\n",
    "    'scheduler_params':{\n",
    "        'step_size': 7,\n",
    "        'gamma': 0.1\n",
    "    },\n",
    "    'metric': 'torcheval.metrics.R2Score',\n",
    "    'metric_params': None\n",
    "}"
   ]
  },
  {
   "cell_type": "code",
   "execution_count": 5,
   "metadata": {},
   "outputs": [
    {
     "data": {
      "text/plain": [
       "{'loss_fn': 'torch.nn.MSELoss',\n",
       " 'loss_fn_params': None,\n",
       " 'optimizer': 'torch.optim.Adam',\n",
       " 'optimizer_params': {'amsgrad': 'True'},\n",
       " 'scheduler': 'torch.optim.lr_scheduler.StepLR',\n",
       " 'scheduler_params': {'step_size': 7, 'gamma': 0.1},\n",
       " 'metric': 'torcheval.metrics.R2Score',\n",
       " 'metric_params': None}"
      ]
     },
     "execution_count": 5,
     "metadata": {},
     "output_type": "execute_result"
    }
   ],
   "source": [
    "initializer_configs"
   ]
  },
  {
   "cell_type": "code",
   "execution_count": 6,
   "metadata": {},
   "outputs": [],
   "source": [
    "import importlib\n",
    "\n",
    "def string_to_callable(callable_string):\n",
    "    \"\"\"\n",
    "    Convert a string to a callable. This function helps to convert Kedro's\n",
    "    parameters into callables that can be passed to model building functions\n",
    "    in pipeline.\n",
    "    \"\"\"\n",
    "    if callable_string == 'None':\n",
    "        return None\n",
    "    module_name, function_name = callable_string.rsplit('.', 1)\n",
    "\n",
    "    print(f'[INFO] Module called {module_name} with a function name: {function_name}')\n",
    "\n",
    "    module = importlib.import_module(module_name)\n",
    "    func = getattr(module, function_name)\n",
    "    return func"
   ]
  },
  {
   "cell_type": "code",
   "execution_count": 7,
   "metadata": {},
   "outputs": [],
   "source": [
    "def instantiate_class_with_params(\n",
    "        class_name='torch.optim.lr_scheduler.StepLR', \n",
    "        parameters={'step_size': 7, 'gamma': 0.1}):\n",
    "    return string_to_callable(class_name)(**parameters)"
   ]
  },
  {
   "cell_type": "code",
   "execution_count": 8,
   "metadata": {},
   "outputs": [
    {
     "name": "stdout",
     "output_type": "stream",
     "text": [
      "[INFO] Module called torch.optim.lr_scheduler with a function name: StepLR\n"
     ]
    },
    {
     "ename": "TypeError",
     "evalue": "StepLR.__init__() missing 1 required positional argument: 'optimizer'",
     "output_type": "error",
     "traceback": [
      "\u001b[0;31m---------------------------------------------------------------------------\u001b[0m",
      "\u001b[0;31mTypeError\u001b[0m                                 Traceback (most recent call last)",
      "Cell \u001b[0;32mIn[8], line 1\u001b[0m\n\u001b[0;32m----> 1\u001b[0m \u001b[43minstantiate_class_with_params\u001b[49m\u001b[43m(\u001b[49m\u001b[43m)\u001b[49m\n",
      "Cell \u001b[0;32mIn[7], line 4\u001b[0m, in \u001b[0;36minstantiate_class_with_params\u001b[0;34m(class_name, parameters)\u001b[0m\n\u001b[1;32m      1\u001b[0m \u001b[38;5;28;01mdef\u001b[39;00m \u001b[38;5;21minstantiate_class_with_params\u001b[39m(\n\u001b[1;32m      2\u001b[0m         class_name\u001b[38;5;241m=\u001b[39m\u001b[38;5;124m'\u001b[39m\u001b[38;5;124mtorch.optim.lr_scheduler.StepLR\u001b[39m\u001b[38;5;124m'\u001b[39m, \n\u001b[1;32m      3\u001b[0m         parameters\u001b[38;5;241m=\u001b[39m{\u001b[38;5;124m'\u001b[39m\u001b[38;5;124mstep_size\u001b[39m\u001b[38;5;124m'\u001b[39m: \u001b[38;5;241m7\u001b[39m, \u001b[38;5;124m'\u001b[39m\u001b[38;5;124mgamma\u001b[39m\u001b[38;5;124m'\u001b[39m: \u001b[38;5;241m0.1\u001b[39m}):\n\u001b[0;32m----> 4\u001b[0m     \u001b[38;5;28;01mreturn\u001b[39;00m \u001b[43mstring_to_callable\u001b[49m\u001b[43m(\u001b[49m\u001b[43mclass_name\u001b[49m\u001b[43m)\u001b[49m\u001b[43m(\u001b[49m\u001b[38;5;241;43m*\u001b[39;49m\u001b[38;5;241;43m*\u001b[39;49m\u001b[43mparameters\u001b[49m\u001b[43m)\u001b[49m\n",
      "\u001b[0;31mTypeError\u001b[0m: StepLR.__init__() missing 1 required positional argument: 'optimizer'"
     ]
    }
   ],
   "source": [
    "instantiate_class_with_params()"
   ]
  },
  {
   "cell_type": "code",
   "execution_count": 2,
   "metadata": {},
   "outputs": [],
   "source": [
    "my_dict = {'a': 1, 'b': 2}\n",
    "my_dict['ananas'] = 1"
   ]
  },
  {
   "cell_type": "code",
   "execution_count": 3,
   "metadata": {},
   "outputs": [
    {
     "data": {
      "text/plain": [
       "{'a': 1, 'b': 2, 'ananas': 1}"
      ]
     },
     "execution_count": 3,
     "metadata": {},
     "output_type": "execute_result"
    }
   ],
   "source": [
    "my_dict"
   ]
  },
  {
   "cell_type": "code",
   "execution_count": 4,
   "metadata": {},
   "outputs": [
    {
     "data": {
      "text/plain": [
       "dict_items([('a', 1), ('b', 2), ('ananas', 1)])"
      ]
     },
     "execution_count": 4,
     "metadata": {},
     "output_type": "execute_result"
    }
   ],
   "source": [
    "my_dict.items()"
   ]
  },
  {
   "cell_type": "code",
   "execution_count": null,
   "metadata": {},
   "outputs": [],
   "source": []
  }
 ],
 "metadata": {
  "kernelspec": {
   "display_name": "leaf-area-MmBPJx5b-py3.10",
   "language": "python",
   "name": "python3"
  },
  "language_info": {
   "codemirror_mode": {
    "name": "ipython",
    "version": 3
   },
   "file_extension": ".py",
   "mimetype": "text/x-python",
   "name": "python",
   "nbconvert_exporter": "python",
   "pygments_lexer": "ipython3",
   "version": "3.10.12"
  }
 },
 "nbformat": 4,
 "nbformat_minor": 2
}
